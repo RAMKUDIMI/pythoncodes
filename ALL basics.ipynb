{
 "cells": [
  {
   "cell_type": "code",
   "execution_count": null,
   "id": "d60ad9eb",
   "metadata": {},
   "outputs": [],
   "source": [
    "# Using the variables - Knowing the rent "
   ]
  },
  {
   "cell_type": "code",
   "execution_count": null,
   "id": "d8a26b99",
   "metadata": {},
   "outputs": [],
   "source": [
    "# MONTHLY EXPENSES- variables are stored values  \n",
    "rent= 4000\n",
    "food= 2300\n",
    "petrol=2300\n",
    "out_s=1200\n",
    "Total_expenses= rent+ food + petrol + out_s"
   ]
  },
  {
   "cell_type": "code",
   "execution_count": null,
   "id": "ed992963",
   "metadata": {},
   "outputs": [],
   "source": [
    "Total_expenses"
   ]
  },
  {
   "cell_type": "code",
   "execution_count": null,
   "id": "04e5e43d",
   "metadata": {},
   "outputs": [],
   "source": [
    "# reveserd words- keywords can't use them as constant or variable - keywords contain lowercase letters only.\n",
    "and break assert def pass or not in True False import else if for return with while is del \n",
    "# blocks of code are dentoed by identation."
   ]
  },
  {
   "cell_type": "code",
   "execution_count": null,
   "id": "53855cf0",
   "metadata": {},
   "outputs": [],
   "source": [
    "if True: # here the block is called as indentation \n",
    "    print(\"TRUE\")\n",
    "else:\n",
    "    print(\"false\")"
   ]
  },
  {
   "cell_type": "code",
   "execution_count": null,
   "id": "eec93164",
   "metadata": {},
   "outputs": [],
   "source": [
    "\n",
    "12+12\n",
    "10-10\n",
    "7*2\n",
    "10/2\n",
    "11%2 # reminder will get the answer \n",
    "3**3 # konowing the powers of two numbers \n",
    "4//2"
   ]
  },
  {
   "cell_type": "code",
   "execution_count": null,
   "id": "2f1b06a3",
   "metadata": {},
   "outputs": [],
   "source": [
    "# total_ distance from chennai to puttur and chennai to chitoor\n",
    "put_chen= 140\n",
    "che_chi= 170\n",
    "total_dis= put_chen + che_chi\n",
    "total_dis\n"
   ]
  },
  {
   "cell_type": "code",
   "execution_count": null,
   "id": "40a954dc",
   "metadata": {},
   "outputs": [],
   "source": [
    "speed=70\n",
    "dis=240\n",
    "time= dis/ speed\n",
    "time"
   ]
  },
  {
   "cell_type": "code",
   "execution_count": null,
   "id": "941f459e",
   "metadata": {},
   "outputs": [],
   "source": [
    "round(time,2) # just roundoff the things "
   ]
  },
  {
   "cell_type": "code",
   "execution_count": null,
   "id": "58df7ea3",
   "metadata": {},
   "outputs": [],
   "source": [
    "round(time,4)"
   ]
  },
  {
   "cell_type": "code",
   "execution_count": null,
   "id": "af11b58d",
   "metadata": {},
   "outputs": [],
   "source": [
    "# strings are used to text data in ptyhon \n",
    "# pythion index starts with 0\n",
    "name= \"kudimi jyothiram\"\n",
    "name[0]"
   ]
  },
  {
   "cell_type": "code",
   "execution_count": null,
   "id": "387308d2",
   "metadata": {},
   "outputs": [],
   "source": [
    "name[0:]"
   ]
  },
  {
   "cell_type": "code",
   "execution_count": null,
   "id": "8cbf8b92",
   "metadata": {},
   "outputs": [],
   "source": [
    "name[0:6]"
   ]
  },
  {
   "cell_type": "code",
   "execution_count": null,
   "id": "c2afeb6e",
   "metadata": {},
   "outputs": [],
   "source": [
    "name[7:]"
   ]
  },
  {
   "cell_type": "code",
   "execution_count": null,
   "id": "830ac17f",
   "metadata": {},
   "outputs": [],
   "source": [
    "# str + number cannot be added, but it can\n",
    " # changing the num in to string \n",
    "kotak= \" totak employees in  kotak ge======\"\n",
    "num=25\n",
    "num_s=str(num)\n"
   ]
  },
  {
   "cell_type": "code",
   "execution_count": null,
   "id": "73d8251a",
   "metadata": {},
   "outputs": [],
   "source": [
    "total= kotak+num_s\n",
    "total"
   ]
  },
  {
   "cell_type": "code",
   "execution_count": null,
   "id": "ad8cdd88",
   "metadata": {},
   "outputs": [],
   "source": [
    "#list= items need to mention between []\n",
    "items=[\"rent\", \"food\", \"power\", \"petrol\",5000]\n",
    "items"
   ]
  },
  {
   "cell_type": "code",
   "execution_count": null,
   "id": "b3f44038",
   "metadata": {},
   "outputs": [],
   "source": [
    "# indexing same as above \n",
    "# add an item to an existing list\n",
    "items[0]=\"whole_rent\""
   ]
  },
  {
   "cell_type": "code",
   "execution_count": null,
   "id": "4002947b",
   "metadata": {},
   "outputs": [],
   "source": [
    "items"
   ]
  },
  {
   "cell_type": "code",
   "execution_count": null,
   "id": "e4a85470",
   "metadata": {},
   "outputs": [],
   "source": [
    "items[-5:5]"
   ]
  },
  {
   "cell_type": "code",
   "execution_count": null,
   "id": "06a532c1",
   "metadata": {},
   "outputs": [],
   "source": [
    "#append- adds an element at the end of the list \n",
    "items.append(\"out_s\")"
   ]
  },
  {
   "cell_type": "code",
   "execution_count": null,
   "id": "d81922c4",
   "metadata": {},
   "outputs": [],
   "source": [
    "items"
   ]
  },
  {
   "cell_type": "code",
   "execution_count": null,
   "id": "afd9a721",
   "metadata": {},
   "outputs": [],
   "source": [
    "# insert() adds an elemnet at the specified position \n",
    "items"
   ]
  },
  {
   "cell_type": "code",
   "execution_count": null,
   "id": "db5e7d66",
   "metadata": {},
   "outputs": [],
   "source": [
    "items.insert(1,\"online\")"
   ]
  },
  {
   "cell_type": "code",
   "execution_count": null,
   "id": "6fda6090",
   "metadata": {},
   "outputs": [],
   "source": [
    "items"
   ]
  },
  {
   "cell_type": "code",
   "execution_count": null,
   "id": "78e0e467",
   "metadata": {},
   "outputs": [],
   "source": [
    "# pop()-remove the elemnt at the specified position\n",
    "items.pop(1)"
   ]
  },
  {
   "cell_type": "code",
   "execution_count": null,
   "id": "fd99b9c7",
   "metadata": {},
   "outputs": [],
   "source": [
    "items"
   ]
  },
  {
   "cell_type": "code",
   "execution_count": null,
   "id": "0f9a3b0f",
   "metadata": {},
   "outputs": [],
   "source": [
    "items.reverse() # reverse the order of the list "
   ]
  },
  {
   "cell_type": "code",
   "execution_count": null,
   "id": "d404830b",
   "metadata": {},
   "outputs": [],
   "source": [
    "items"
   ]
  },
  {
   "cell_type": "code",
   "execution_count": null,
   "id": "a6ab2d2a",
   "metadata": {},
   "outputs": [],
   "source": [
    "len(items) # lists can be added "
   ]
  },
  {
   "cell_type": "code",
   "execution_count": null,
   "id": "00aeeb45",
   "metadata": {},
   "outputs": [],
   "source": [
    "# in operator- checking the condition\n",
    "'power' in items"
   ]
  },
  {
   "cell_type": "code",
   "execution_count": null,
   "id": "e92ac445",
   "metadata": {},
   "outputs": [],
   "source": [
    "items"
   ]
  },
  {
   "cell_type": "code",
   "execution_count": null,
   "id": "fa94d302",
   "metadata": {},
   "outputs": [],
   "source": [
    "\"sode\" in items"
   ]
  },
  {
   "cell_type": "code",
   "execution_count": null,
   "id": "0f689877",
   "metadata": {},
   "outputs": [],
   "source": [
    "num=input(\" Enter the Number :\")\n",
    "lidt1=int(num)"
   ]
  },
  {
   "cell_type": "code",
   "execution_count": null,
   "id": "7b2ff2c9",
   "metadata": {},
   "outputs": [],
   "source": []
  },
  {
   "cell_type": "code",
   "execution_count": null,
   "id": "7e8a6824",
   "metadata": {},
   "outputs": [],
   "source": [
    "list1=['a', 'b','c', 10]\n",
    "for i in list1:\n",
    "    print( \" The Number is even : \" , list1)\n",
    "else:\n",
    "    print(\" The Number is ODD \")"
   ]
  },
  {
   "cell_type": "code",
   "execution_count": null,
   "id": "4a8066e8",
   "metadata": {},
   "outputs": [],
   "source": [
    " # for loop, def function , if else - important concepts  for ML \n",
    "indian= ['dosa', 'idly', 'samosa']\n",
    "chinese=['fried','roll','soop']\n",
    "italian=['pizza' , 'burger']"
   ]
  },
  {
   "cell_type": "code",
   "execution_count": null,
   "id": "282a770b",
   "metadata": {},
   "outputs": [],
   "source": [
    "dish = input (\" enter the dish name \")"
   ]
  },
  {
   "cell_type": "code",
   "execution_count": null,
   "id": "76400984",
   "metadata": {},
   "outputs": [],
   "source": [
    "if dish in indian:\n",
    "    print(\"indian\")\n",
    "elif dish in chinese:\n",
    "    print(\"chi\")\n",
    "elif dish in italian:\n",
    "    print('burger')\n",
    "else:\n",
    "    print(\" I don't know the cuisine name \")"
   ]
  },
  {
   "cell_type": "code",
   "execution_count": null,
   "id": "6cc7a007",
   "metadata": {},
   "outputs": [],
   "source": [
    "# for loop - which indicates that - repeats the specific action , until it gets satisfied "
   ]
  },
  {
   "cell_type": "code",
   "execution_count": null,
   "id": "06ee6f14",
   "metadata": {},
   "outputs": [],
   "source": [
    " # knowing the laptop price- using the for loop\n",
    "for i in range(5):\n",
    "    laptop_pricers1=int(input(\" Enter the price of the laptop :-\"))"
   ]
  },
  {
   "cell_type": "code",
   "execution_count": null,
   "id": "4c0f6aaa",
   "metadata": {},
   "outputs": [],
   "source": [
    "for i in [1,20,30,40,50]:\n",
    "    print(i)"
   ]
  },
  {
   "cell_type": "code",
   "execution_count": null,
   "id": "32838d26",
   "metadata": {},
   "outputs": [],
   "source": [
    "# find the even or odd \n",
    "Numbers=[11,22,33,44,55,66,77,88]"
   ]
  },
  {
   "cell_type": "code",
   "execution_count": null,
   "id": "857c7bd8",
   "metadata": {},
   "outputs": [],
   "source": [
    "# find the even or odd \n",
    "Numbers=[11,22,33,44,55,66,77,88]\n",
    "\n",
    "for i in [11,22,33,44,55,66]:\n",
    "    if i%2==0:\n",
    "        print(\" The Number  is a Even :\")\n",
    "    else:\n",
    "        print(\" The Nuber is a Odd\")"
   ]
  },
  {
   "cell_type": "code",
   "execution_count": null,
   "id": "b3d85556",
   "metadata": {},
   "outputs": [],
   "source": [
    "# USING FOR LOOP FOR list nUMBERS\n",
    "A= [10,20,30,40,50,50]\n",
    "for i in A:\n",
    "    print(i)"
   ]
  },
  {
   "cell_type": "code",
   "execution_count": null,
   "id": "ac7e7ab6",
   "metadata": {},
   "outputs": [],
   "source": [
    "# using for loop for list. of strings # concatenate  can be done to strings also-\n",
    "A=[\"ram\", \"bheem\", \"dhoom\", \"boom\"]\n",
    "for i in A:\n",
    "    i=i+\"kudimi\"\n",
    "    print(i)"
   ]
  },
  {
   "cell_type": "code",
   "execution_count": null,
   "id": "e4ce11c2",
   "metadata": {},
   "outputs": [],
   "source": [
    "# using the for loop for tuple of strings\n",
    "coun=(\"ram\", \"bheem\", \"mom\",\"whom\")\n",
    "for names in coun:\n",
    "    names=names+\"bhanu\"\n",
    "    print(names)"
   ]
  },
  {
   "cell_type": "code",
   "execution_count": null,
   "id": "a341730d",
   "metadata": {},
   "outputs": [],
   "source": [
    "# using for loop for set of strings \n",
    "Tami={'a', \"b\", \"c\"}\n",
    "for  alpa in Tami: # random values will get iutput \n",
    "    print(alpa)"
   ]
  },
  {
   "cell_type": "code",
   "execution_count": null,
   "id": "99a6520e",
   "metadata": {},
   "outputs": [],
   "source": [
    "# for loop on a dictionary\n",
    "A= {\"ram\":1, \"bhanu\":2, \"kudimi\":3}\n",
    "for i in A:\n",
    "    print(i) # key names only will come "
   ]
  },
  {
   "cell_type": "code",
   "execution_count": null,
   "id": "57535065",
   "metadata": {},
   "outputs": [],
   "source": [
    "A= [\" i LOVE \"]\n",
    "B=[\" DATA SCIENCE\"]\n",
    "for i in A:\n",
    "    for j in B:\n",
    "        print(i,j)"
   ]
  },
  {
   "cell_type": "code",
   "execution_count": null,
   "id": "25ded359",
   "metadata": {},
   "outputs": [],
   "source": [
    "# list is a collection of different data types\n",
    "SA=[1,3,1.2, \"RAM\",(1,\"RAM\"),{\" M\":1, \"BHEEM\":2, \"BOOM\":3},{\"RANDEPOM\",1 }]\n",
    "SA"
   ]
  },
  {
   "cell_type": "code",
   "execution_count": null,
   "id": "845315ea",
   "metadata": {},
   "outputs": [],
   "source": [
    "# A LIST IS MUTABLE- Means list items can be changed after creating the list \n",
    "A=[1,2,3,4,5]\n",
    "A.append(8)"
   ]
  },
  {
   "cell_type": "code",
   "execution_count": null,
   "id": "1a4a5e05",
   "metadata": {},
   "outputs": [],
   "source": [
    "A"
   ]
  },
  {
   "cell_type": "code",
   "execution_count": null,
   "id": "0477591a",
   "metadata": {},
   "outputs": [],
   "source": [
    "# insert()- to insert new value at a given index i9n the llist\n",
    "A=[1,2,3,4,5]\n",
    "A.insert(3,\"kudimi\")"
   ]
  },
  {
   "cell_type": "code",
   "execution_count": null,
   "id": "23a9859d",
   "metadata": {},
   "outputs": [],
   "source": [
    "A"
   ]
  },
  {
   "cell_type": "code",
   "execution_count": null,
   "id": "aacb8dbe",
   "metadata": {},
   "outputs": [],
   "source": [
    "# INDEX- TO SHOW THE INDEX OF THE VALUE\n",
    "A=[1,2,2]\n",
    "A.index(2)"
   ]
  },
  {
   "cell_type": "code",
   "execution_count": null,
   "id": "7883c74e",
   "metadata": {},
   "outputs": [],
   "source": [
    "A.remove(2) # To delecte a value from the list "
   ]
  },
  {
   "cell_type": "code",
   "execution_count": null,
   "id": "1cbc435f",
   "metadata": {},
   "outputs": [],
   "source": [
    "A"
   ]
  },
  {
   "cell_type": "code",
   "execution_count": null,
   "id": "76160529",
   "metadata": {},
   "outputs": [],
   "source": [
    "set1={10,20,9,8, 1.2, \"kudimi\", \"ko\",\"ka\"}"
   ]
  },
  {
   "cell_type": "code",
   "execution_count": null,
   "id": "e22650d6",
   "metadata": {},
   "outputs": [],
   "source": [
    "set1"
   ]
  },
  {
   "cell_type": "code",
   "execution_count": null,
   "id": "116ffd87",
   "metadata": {},
   "outputs": [],
   "source": [
    "a= {'hi','hi'}"
   ]
  },
  {
   "cell_type": "code",
   "execution_count": null,
   "id": "3a2422d7",
   "metadata": {},
   "outputs": [],
   "source": [
    "a # set- duplicate values not allowed "
   ]
  },
  {
   "cell_type": "code",
   "execution_count": null,
   "id": "cb9217cf",
   "metadata": {},
   "outputs": [],
   "source": [
    "a.add(\"data science\")\n"
   ]
  },
  {
   "cell_type": "code",
   "execution_count": null,
   "id": "6aca6a74",
   "metadata": {},
   "outputs": [],
   "source": [
    "a"
   ]
  },
  {
   "cell_type": "code",
   "execution_count": null,
   "id": "7111e386",
   "metadata": {},
   "outputs": [],
   "source": [
    "# remove value from the set \n",
    "a.remove(\"hi\")"
   ]
  },
  {
   "cell_type": "code",
   "execution_count": null,
   "id": "985c62c0",
   "metadata": {},
   "outputs": [],
   "source": [
    "a"
   ]
  },
  {
   "cell_type": "code",
   "execution_count": null,
   "id": "71429e4e",
   "metadata": {},
   "outputs": [],
   "source": [
    "a.pop() # a random  value get eliminate from set "
   ]
  },
  {
   "cell_type": "code",
   "execution_count": null,
   "id": "e3bdd613",
   "metadata": {},
   "outputs": [],
   "source": [
    "a # here is thereis no values in the set "
   ]
  },
  {
   "cell_type": "code",
   "execution_count": 2,
   "id": "0833a05c",
   "metadata": {},
   "outputs": [],
   "source": [
    "\n",
    "# dictionary- is a combination of keys and values \n",
    "D= {\"RAM\":1, \"BHEEM\":2, \"BOOM\":4}"
   ]
  },
  {
   "cell_type": "code",
   "execution_count": 3,
   "id": "895f9880",
   "metadata": {},
   "outputs": [
    {
     "data": {
      "text/plain": [
       "{'RAM': 1, 'BHEEM': 2, 'BOOM': 4}"
      ]
     },
     "execution_count": 3,
     "metadata": {},
     "output_type": "execute_result"
    }
   ],
   "source": [
    "D"
   ]
  },
  {
   "cell_type": "code",
   "execution_count": 4,
   "id": "eb4efd3b",
   "metadata": {},
   "outputs": [
    {
     "data": {
      "text/plain": [
       "dict"
      ]
     },
     "execution_count": 4,
     "metadata": {},
     "output_type": "execute_result"
    }
   ],
   "source": [
    "type(D)"
   ]
  },
  {
   "cell_type": "code",
   "execution_count": 5,
   "id": "66da2d20",
   "metadata": {},
   "outputs": [],
   "source": [
    "D1={1:\"MAMA\", 2:\"RAM\", 3:\"BHEEM\"}"
   ]
  },
  {
   "cell_type": "code",
   "execution_count": 6,
   "id": "0950aa4f",
   "metadata": {},
   "outputs": [
    {
     "data": {
      "text/plain": [
       "{1: 'MAMA', 2: 'RAM', 3: 'BHEEM'}"
      ]
     },
     "execution_count": 6,
     "metadata": {},
     "output_type": "execute_result"
    }
   ],
   "source": [
    "D1"
   ]
  },
  {
   "cell_type": "code",
   "execution_count": 10,
   "id": "223c2911",
   "metadata": {},
   "outputs": [
    {
     "data": {
      "text/plain": [
       "{1: 'A', 2: 1.2, 3: 1000}"
      ]
     },
     "execution_count": 10,
     "metadata": {},
     "output_type": "execute_result"
    }
   ],
   "source": [
    "\n",
    "# DICTIONARY WITH INTEGER KEYS\n",
    "A={1:'A',2:1.2,3:1000}\n",
    "A"
   ]
  },
  {
   "cell_type": "code",
   "execution_count": 11,
   "id": "cda82aa9",
   "metadata": {},
   "outputs": [
    {
     "data": {
      "text/plain": [
       "dict"
      ]
     },
     "execution_count": 11,
     "metadata": {},
     "output_type": "execute_result"
    }
   ],
   "source": [
    "type(A)"
   ]
  },
  {
   "cell_type": "code",
   "execution_count": 14,
   "id": "b61a9f00",
   "metadata": {},
   "outputs": [],
   "source": [
    "# dictionary with float keys\n",
    "A={1.2:\"a\", 2.3:2.5, 3.4:100}"
   ]
  },
  {
   "cell_type": "code",
   "execution_count": 15,
   "id": "83c80e0e",
   "metadata": {},
   "outputs": [
    {
     "data": {
      "text/plain": [
       "{1.2: 'a', 2.3: 2.5, 3.4: 100}"
      ]
     },
     "execution_count": 15,
     "metadata": {},
     "output_type": "execute_result"
    }
   ],
   "source": [
    "A"
   ]
  },
  {
   "cell_type": "code",
   "execution_count": 18,
   "id": "465c58e2",
   "metadata": {},
   "outputs": [
    {
     "data": {
      "text/plain": [
       "{'abcx': 1, 'bhc': 1.2334, 'abuq': 'kudimi'}"
      ]
     },
     "execution_count": 18,
     "metadata": {},
     "output_type": "execute_result"
    }
   ],
   "source": [
    "# Dictionary with string keys\n",
    "p={\"abcx\":1, \"bhc\":1.2334,\"abuq\":\"kudimi\"}\n",
    "p"
   ]
  },
  {
   "cell_type": "code",
   "execution_count": 19,
   "id": "052feb1e",
   "metadata": {},
   "outputs": [
    {
     "data": {
      "text/plain": [
       "dict"
      ]
     },
     "execution_count": 19,
     "metadata": {},
     "output_type": "execute_result"
    }
   ],
   "source": [
    "type(p)"
   ]
  },
  {
   "cell_type": "code",
   "execution_count": 21,
   "id": "e3e404ab",
   "metadata": {},
   "outputs": [
    {
     "data": {
      "text/plain": [
       "{'a': 10, 'b': 2, 'd': 4}"
      ]
     },
     "execution_count": 21,
     "metadata": {},
     "output_type": "execute_result"
    }
   ],
   "source": [
    "# dictionary does not all the duplicate keys- it's selects the lase repeated from table  \n",
    "A= {'a':1, 'b':2, 'a':3,'d':4, 'a':10}\n",
    "A"
   ]
  },
  {
   "cell_type": "code",
   "execution_count": 23,
   "id": "53a7a6c9",
   "metadata": {},
   "outputs": [],
   "source": [
    "# dictionary's can be added or deleted\n",
    "A={1:\"abc\", 2:\"kudimi\",1.2:\"kotak\"}"
   ]
  },
  {
   "cell_type": "code",
   "execution_count": 27,
   "id": "f55fa8cc",
   "metadata": {},
   "outputs": [
    {
     "data": {
      "text/plain": [
       "'abc'"
      ]
     },
     "execution_count": 27,
     "metadata": {},
     "output_type": "execute_result"
    }
   ],
   "source": [
    "A.get(1) # To get the values against a key "
   ]
  },
  {
   "cell_type": "code",
   "execution_count": 28,
   "id": "00975678",
   "metadata": {},
   "outputs": [
    {
     "data": {
      "text/plain": [
       "'kotak'"
      ]
     },
     "execution_count": 28,
     "metadata": {},
     "output_type": "execute_result"
    }
   ],
   "source": [
    "A.get(1.2)"
   ]
  },
  {
   "cell_type": "code",
   "execution_count": 29,
   "id": "8b7346e0",
   "metadata": {},
   "outputs": [
    {
     "data": {
      "text/plain": [
       "dict_items([(1, 'abc'), (2, 'kudimi'), (1.2, 'kotak')])"
      ]
     },
     "execution_count": 29,
     "metadata": {},
     "output_type": "execute_result"
    }
   ],
   "source": [
    "A.items() #to show all items  of the dictionary"
   ]
  },
  {
   "cell_type": "code",
   "execution_count": 30,
   "id": "063c1d2f",
   "metadata": {},
   "outputs": [
    {
     "data": {
      "text/plain": [
       "dict_keys([1, 2, 1.2])"
      ]
     },
     "execution_count": 30,
     "metadata": {},
     "output_type": "execute_result"
    }
   ],
   "source": [
    "A.keys() #to show the all keys in the dictionary "
   ]
  },
  {
   "cell_type": "code",
   "execution_count": 31,
   "id": "e9bd7cb5",
   "metadata": {},
   "outputs": [
    {
     "data": {
      "text/plain": [
       "dict_values(['abc', 'kudimi', 'kotak'])"
      ]
     },
     "execution_count": 31,
     "metadata": {},
     "output_type": "execute_result"
    }
   ],
   "source": [
    "A.values() # to show all the values  in the dictionary "
   ]
  },
  {
   "cell_type": "code",
   "execution_count": 33,
   "id": "d4a16255",
   "metadata": {},
   "outputs": [
    {
     "data": {
      "text/plain": [
       "'abc'"
      ]
     },
     "execution_count": 33,
     "metadata": {},
     "output_type": "execute_result"
    }
   ],
   "source": [
    "A.pop(1) # key along with value will get delete "
   ]
  },
  {
   "cell_type": "code",
   "execution_count": 34,
   "id": "e8f96206",
   "metadata": {},
   "outputs": [
    {
     "data": {
      "text/plain": [
       "{2: 'kudimi', 1.2: 'kotak'}"
      ]
     },
     "execution_count": 34,
     "metadata": {},
     "output_type": "execute_result"
    }
   ],
   "source": [
    "A"
   ]
  },
  {
   "cell_type": "code",
   "execution_count": 35,
   "id": "759001c5",
   "metadata": {},
   "outputs": [],
   "source": [
    "# def function- used to create our own functions.\n",
    "def my_function(): # defining the function with zero arguments \n",
    "    print('This is my first function')"
   ]
  },
  {
   "cell_type": "code",
   "execution_count": 36,
   "id": "1d9a1f79",
   "metadata": {},
   "outputs": [
    {
     "name": "stdout",
     "output_type": "stream",
     "text": [
      "This is my first function\n"
     ]
    }
   ],
   "source": [
    "my_function()"
   ]
  },
  {
   "cell_type": "code",
   "execution_count": 37,
   "id": "5b166ea6",
   "metadata": {},
   "outputs": [],
   "source": [
    "# def function with 1 argument\n",
    "def new(a):\n",
    "    print(a)"
   ]
  },
  {
   "cell_type": "code",
   "execution_count": 38,
   "id": "883565ef",
   "metadata": {},
   "outputs": [
    {
     "name": "stdout",
     "output_type": "stream",
     "text": [
      "Null values \n"
     ]
    }
   ],
   "source": [
    "new('Null values ') # calling the function with 1 string argument "
   ]
  },
  {
   "cell_type": "code",
   "execution_count": 39,
   "id": "6138d310",
   "metadata": {},
   "outputs": [
    {
     "name": "stdout",
     "output_type": "stream",
     "text": [
      "1200\n"
     ]
    }
   ],
   "source": [
    "new(1200) # 1 int argument "
   ]
  },
  {
   "cell_type": "code",
   "execution_count": 40,
   "id": "62fd09b1",
   "metadata": {},
   "outputs": [
    {
     "name": "stdout",
     "output_type": "stream",
     "text": [
      "1.2\n"
     ]
    }
   ],
   "source": [
    "new(1.20) #1 float argument "
   ]
  },
  {
   "cell_type": "code",
   "execution_count": 46,
   "id": "fc56beea",
   "metadata": {},
   "outputs": [],
   "source": [
    "def div(a,b):# DEF FUNCTION WITH   \n",
    "    d=a/b # BODY OF THE FUNCTION\n",
    "    return d # returning resulting"
   ]
  },
  {
   "cell_type": "code",
   "execution_count": 48,
   "id": "fd60bc29",
   "metadata": {},
   "outputs": [
    {
     "data": {
      "text/plain": [
       "5.0"
      ]
     },
     "execution_count": 48,
     "metadata": {},
     "output_type": "execute_result"
    }
   ],
   "source": [
    "div(10,2) # calling fun "
   ]
  },
  {
   "cell_type": "code",
   "execution_count": 51,
   "id": "7802fb2a",
   "metadata": {},
   "outputs": [],
   "source": [
    "# Multiply of three numbers\n",
    "def mult(a,b,c): 3 DEF function 3 arguments \n",
    "    d=a*b*c\n",
    "    return d"
   ]
  },
  {
   "cell_type": "code",
   "execution_count": 52,
   "id": "1bd3bce2",
   "metadata": {},
   "outputs": [
    {
     "data": {
      "text/plain": [
       "24"
      ]
     },
     "execution_count": 52,
     "metadata": {},
     "output_type": "execute_result"
    }
   ],
   "source": [
    "mult(2,3,4)"
   ]
  },
  {
   "cell_type": "code",
   "execution_count": 53,
   "id": "1df6d5e3",
   "metadata": {},
   "outputs": [],
   "source": [
    "# add- 4 arguments \n",
    "def add(a,b,c,d): DEF function with 4 arguments \n",
    "    ad=a + b + c+ d # body of the function \n",
    "    return ad # retutning tthe result of the function "
   ]
  },
  {
   "cell_type": "code",
   "execution_count": 54,
   "id": "b6dbc61e",
   "metadata": {},
   "outputs": [
    {
     "data": {
      "text/plain": [
       "140"
      ]
     },
     "execution_count": 54,
     "metadata": {},
     "output_type": "execute_result"
    }
   ],
   "source": [
    "add(20,30,40,50) # calling the function with 4 argumnets in it "
   ]
  },
  {
   "cell_type": "code",
   "execution_count": 55,
   "id": "a39b5466",
   "metadata": {},
   "outputs": [],
   "source": [
    " #  double the value thaty we pass\n",
    "def double(p):\n",
    "    return p*2 # return we can add here also # for square use like p*p "
   ]
  },
  {
   "cell_type": "code",
   "execution_count": 56,
   "id": "a423f9dc",
   "metadata": {},
   "outputs": [
    {
     "data": {
      "text/plain": [
       "4690"
      ]
     },
     "execution_count": 56,
     "metadata": {},
     "output_type": "execute_result"
    }
   ],
   "source": [
    "double(2345)"
   ]
  },
  {
   "cell_type": "code",
   "execution_count": 61,
   "id": "ebfb12c0",
   "metadata": {},
   "outputs": [],
   "source": [
    "# return greater value from two given two values \n",
    "def great(a,b):\n",
    "    if a>b:\n",
    "        return a \n",
    "    else:\n",
    "        return b"
   ]
  },
  {
   "cell_type": "code",
   "execution_count": 62,
   "id": "cb91e519",
   "metadata": {},
   "outputs": [
    {
     "data": {
      "text/plain": [
       "5"
      ]
     },
     "execution_count": 62,
     "metadata": {},
     "output_type": "execute_result"
    }
   ],
   "source": [
    "great(5,2)"
   ]
  },
  {
   "cell_type": "code",
   "execution_count": 63,
   "id": "87db7d22",
   "metadata": {},
   "outputs": [],
   "source": []
  },
  {
   "cell_type": "code",
   "execution_count": 65,
   "id": "2a0554b4",
   "metadata": {},
   "outputs": [
    {
     "data": {
      "text/plain": [
       "5"
      ]
     },
     "execution_count": 65,
     "metadata": {},
     "output_type": "execute_result"
    }
   ],
   "source": [
    "smal(5,4)"
   ]
  },
  {
   "cell_type": "code",
   "execution_count": null,
   "id": "02a3c687",
   "metadata": {},
   "outputs": [],
   "source": []
  },
  {
   "cell_type": "code",
   "execution_count": null,
   "id": "14fc3f94",
   "metadata": {},
   "outputs": [],
   "source": []
  },
  {
   "cell_type": "code",
   "execution_count": null,
   "id": "7f0004b2",
   "metadata": {},
   "outputs": [],
   "source": []
  }
 ],
 "metadata": {
  "kernelspec": {
   "display_name": "Python 3 (ipykernel)",
   "language": "python",
   "name": "python3"
  },
  "language_info": {
   "codemirror_mode": {
    "name": "ipython",
    "version": 3
   },
   "file_extension": ".py",
   "mimetype": "text/x-python",
   "name": "python",
   "nbconvert_exporter": "python",
   "pygments_lexer": "ipython3",
   "version": "3.9.12"
  }
 },
 "nbformat": 4,
 "nbformat_minor": 5
}
